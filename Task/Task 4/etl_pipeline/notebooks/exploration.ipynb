{
 "cells": [
  {
   "cell_type": "code",
   "execution_count": 135,
   "metadata": {},
   "outputs": [
    {
     "data": {
      "text/html": [
       "<div><style>\n",
       ".dataframe > thead > tr,\n",
       ".dataframe > tbody > tr {\n",
       "  text-align: right;\n",
       "  white-space: pre-wrap;\n",
       "}\n",
       "</style>\n",
       "<small>shape: (250, 24)</small><table border=\"1\" class=\"dataframe\"><thead><tr><th>id</th><th>url</th><th>primaryTitle</th><th>originalTitle</th><th>type</th><th>description</th><th>primaryImage</th><th>contentRating</th><th>startYear</th><th>endYear</th><th>releaseDate</th><th>interests</th><th>countriesOfOrigin</th><th>externalLinks</th><th>spokenLanguages</th><th>filmingLocations</th><th>productionCompanies</th><th>budget</th><th>grossWorldwide</th><th>genres</th><th>isAdult</th><th>runtimeMinutes</th><th>averageRating</th><th>numVotes</th></tr><tr><td>str</td><td>str</td><td>str</td><td>str</td><td>str</td><td>str</td><td>str</td><td>str</td><td>i64</td><td>null</td><td>str</td><td>list[str]</td><td>list[str]</td><td>list[str]</td><td>list[str]</td><td>list[str]</td><td>list[struct[2]]</td><td>i64</td><td>i64</td><td>list[str]</td><td>bool</td><td>i64</td><td>f64</td><td>i64</td></tr></thead><tbody><tr><td>&quot;tt0111161&quot;</td><td>&quot;https://www.imdb.com/title/tt0…</td><td>&quot;The Shawshank Redemption&quot;</td><td>&quot;The Shawshank Redemption&quot;</td><td>&quot;movie&quot;</td><td>&quot;A banker convicted of uxoricid…</td><td>&quot;https://m.media-amazon.com/ima…</td><td>&quot;R&quot;</td><td>1994</td><td>null</td><td>&quot;1994-10-14&quot;</td><td>[&quot;Epic&quot;, &quot;Period Drama&quot;, … &quot;Drama&quot;]</td><td>[&quot;US&quot;]</td><td>[&quot;https://www.facebook.com/shawshankredemptionfilm/&quot;, &quot;https://www.warnerbros.com/movies/shawshank-redemption&quot;]</td><td>[&quot;en&quot;]</td><td>[&quot;Mansfield Reformatory - 100 Reformatory Road, Mansfield, Ohio, USA&quot;]</td><td>[{&quot;co0040620&quot;,&quot;Castle Rock Entertainment&quot;}]</td><td>25000000</td><td>29332133</td><td>[&quot;Drama&quot;]</td><td>false</td><td>142</td><td>9.3</td><td>3019758</td></tr><tr><td>&quot;tt0068646&quot;</td><td>&quot;https://www.imdb.com/title/tt0…</td><td>&quot;The Godfather&quot;</td><td>&quot;The Godfather&quot;</td><td>&quot;movie&quot;</td><td>&quot;The aging patriarch of an orga…</td><td>&quot;https://m.media-amazon.com/ima…</td><td>&quot;R&quot;</td><td>1972</td><td>null</td><td>&quot;1972-03-24&quot;</td><td>[&quot;Epic&quot;, &quot;Gangster&quot;, … &quot;Drama&quot;]</td><td>[&quot;US&quot;]</td><td>[&quot;https://www.facebook.com/thegodfather/&quot;, &quot;https://www.instagram.com/thegodfathermovie/&quot;]</td><td>[&quot;en&quot;, &quot;it&quot;, &quot;la&quot;]</td><td>[&quot;Forza d&#x27;Agrò, Messina, Sicily, Italy&quot;]</td><td>[{&quot;co0023400&quot;,&quot;Paramount Pictures&quot;}, {&quot;co0921482&quot;,&quot;Albert S. Ruddy Productions&quot;}, {&quot;co0255097&quot;,&quot;Alfran Productions&quot;}]</td><td>6000000</td><td>250342198</td><td>[&quot;Crime&quot;, &quot;Drama&quot;]</td><td>false</td><td>175</td><td>9.2</td><td>2107434</td></tr><tr><td>&quot;tt0468569&quot;</td><td>&quot;https://www.imdb.com/title/tt0…</td><td>&quot;The Dark Knight&quot;</td><td>&quot;The Dark Knight&quot;</td><td>&quot;movie&quot;</td><td>&quot;When a menace known as the Jok…</td><td>&quot;https://m.media-amazon.com/ima…</td><td>&quot;PG-13&quot;</td><td>2008</td><td>null</td><td>&quot;2008-07-18&quot;</td><td>[&quot;Action Epic&quot;, &quot;Epic&quot;, … &quot;Thriller&quot;]</td><td>[&quot;US&quot;, &quot;GB&quot;]</td><td>[&quot;https://www.facebook.com/darkknighttrilogy/&quot;, &quot;https://www.warnerbros.co.uk/movies/dark-knight&quot;]</td><td>[&quot;en&quot;]</td><td>[&quot;Chicago, Illinois, USA&quot;]</td><td>[{&quot;co0002663&quot;,&quot;Warner Bros.&quot;}, {&quot;co0159111&quot;,&quot;Legendary Entertainment&quot;}, {&quot;co0147954&quot;,&quot;Syncopy&quot;}]</td><td>185000000</td><td>1009053678</td><td>[&quot;Action&quot;, &quot;Crime&quot;, &quot;Drama&quot;]</td><td>false</td><td>152</td><td>9.0</td><td>2996039</td></tr><tr><td>&quot;tt0071562&quot;</td><td>&quot;https://www.imdb.com/title/tt0…</td><td>&quot;The Godfather Part II&quot;</td><td>&quot;The Godfather Part II&quot;</td><td>&quot;movie&quot;</td><td>&quot;The early life and career of V…</td><td>&quot;https://m.media-amazon.com/ima…</td><td>&quot;R&quot;</td><td>1974</td><td>null</td><td>&quot;1974-12-18&quot;</td><td>[&quot;Epic&quot;, &quot;Gangster&quot;, … &quot;Drama&quot;]</td><td>[&quot;US&quot;]</td><td>[&quot;https://www.facebook.com/thegodfather/&quot;, &quot;https://twitter.com/godfathermovie&quot;]</td><td>[&quot;en&quot;, &quot;it&quot;, … &quot;la&quot;]</td><td>[&quot;Kaiser Estate, 4000 W Lake Blvd, Homewood, Lake Tahoe, California, USA&quot;]</td><td>[{&quot;co0023400&quot;,&quot;Paramount Pictures&quot;}, {&quot;co0099634&quot;,&quot;The Coppola Company&quot;}, {&quot;co0020958&quot;,&quot;American Zoetrope&quot;}]</td><td>13000000</td><td>47964222</td><td>[&quot;Crime&quot;, &quot;Drama&quot;]</td><td>false</td><td>202</td><td>9.0</td><td>1419319</td></tr><tr><td>&quot;tt0050083&quot;</td><td>&quot;https://www.imdb.com/title/tt0…</td><td>&quot;12 Angry Men&quot;</td><td>&quot;12 Angry Men&quot;</td><td>&quot;movie&quot;</td><td>&quot;The jury in a New York City mu…</td><td>&quot;https://m.media-amazon.com/ima…</td><td>&quot;Approved&quot;</td><td>1957</td><td>null</td><td>&quot;1957-04-10&quot;</td><td>[&quot;Legal Drama&quot;, &quot;Psychological Drama&quot;, … &quot;Drama&quot;]</td><td>[&quot;US&quot;]</td><td>null</td><td>[&quot;en&quot;]</td><td>[&quot;New York County Courthouse - 60 Centre Street, New York City, New York, USA&quot;]</td><td>[{&quot;co0032902&quot;,&quot;Orion-Nova Productions&quot;}]</td><td>350000</td><td>2945</td><td>[&quot;Crime&quot;, &quot;Drama&quot;]</td><td>false</td><td>96</td><td>9.0</td><td>916629</td></tr><tr><td>&hellip;</td><td>&hellip;</td><td>&hellip;</td><td>&hellip;</td><td>&hellip;</td><td>&hellip;</td><td>&hellip;</td><td>&hellip;</td><td>&hellip;</td><td>&hellip;</td><td>&hellip;</td><td>&hellip;</td><td>&hellip;</td><td>&hellip;</td><td>&hellip;</td><td>&hellip;</td><td>&hellip;</td><td>&hellip;</td><td>&hellip;</td><td>&hellip;</td><td>&hellip;</td><td>&hellip;</td><td>&hellip;</td><td>&hellip;</td></tr><tr><td>&quot;tt5323662&quot;</td><td>&quot;https://www.imdb.com/title/tt5…</td><td>&quot;A Silent Voice: The Movie&quot;</td><td>&quot;Koe no katachi&quot;</td><td>&quot;movie&quot;</td><td>&quot;A deaf girl, Shoko, is bullied…</td><td>&quot;https://m.media-amazon.com/ima…</td><td>&quot;Not Rated&quot;</td><td>2016</td><td>null</td><td>&quot;2016-09-17&quot;</td><td>[&quot;Anime&quot;, &quot;Coming-of-Age&quot;, … &quot;Drama&quot;]</td><td>[&quot;JP&quot;]</td><td>[&quot;https://www.elevenarts.net/titles/a-silent-voice&quot;, &quot;https://www.fathomevents.com/events/a-silent-voice&quot;]</td><td>[&quot;ja&quot;, &quot;en&quot;]</td><td>null</td><td>[{&quot;co0623776&quot;,&quot;ABC Animation&quot;}, {&quot;co0089081&quot;,&quot;Kyoto Animation&quot;}, {&quot;co0021660&quot;,&quot;Kôdansha&quot;}]</td><td>null</td><td>30504476</td><td>[&quot;Animation&quot;, &quot;Drama&quot;]</td><td>false</td><td>130</td><td>8.1</td><td>116834</td></tr><tr><td>&quot;tt1454029&quot;</td><td>&quot;https://www.imdb.com/title/tt1…</td><td>&quot;The Help&quot;</td><td>&quot;The Help&quot;</td><td>&quot;movie&quot;</td><td>&quot;An aspiring author during the …</td><td>&quot;https://m.media-amazon.com/ima…</td><td>&quot;PG-13&quot;</td><td>2011</td><td>null</td><td>&quot;2011-08-10&quot;</td><td>[&quot;Period Drama&quot;, &quot;Drama&quot;]</td><td>[&quot;US&quot;, &quot;IN&quot;]</td><td>[&quot;http://disney-studio.jp/movies/help/&quot;]</td><td>[&quot;en&quot;]</td><td>[&quot;Greenwood, Mississippi, USA&quot;]</td><td>[{&quot;co0040938&quot;,&quot;DreamWorks&quot;}, {&quot;co0819670&quot;,&quot;Dreamworks Pictures&quot;}, {&quot;co0559567&quot;,&quot;Reliance Film &amp; Entertainment&quot;}]</td><td>25000000</td><td>221802186</td><td>[&quot;Drama&quot;]</td><td>false</td><td>146</td><td>8.1</td><td>509794</td></tr><tr><td>&quot;tt0245712&quot;</td><td>&quot;https://www.imdb.com/title/tt0…</td><td>&quot;Amores Perros&quot;</td><td>&quot;Amores perros&quot;</td><td>&quot;movie&quot;</td><td>&quot;An amateur dog fighter, a supe…</td><td>&quot;https://m.media-amazon.com/ima…</td><td>&quot;R&quot;</td><td>2000</td><td>null</td><td>&quot;2001-04-13&quot;</td><td>[&quot;Tragedy&quot;, &quot;Drama&quot;, &quot;Thriller&quot;]</td><td>[&quot;MX&quot;]</td><td>[&quot;https://archive.org/embed/amores-perros-2000&quot;, &quot;https://www.filmymen.us/2022/11/amores-perros-movie-amores-perros-full.html&quot;]</td><td>[&quot;es&quot;]</td><td>[&quot;Colonia Condesa, Mexico City, Distrito Federal, Mexico&quot;]</td><td>[{&quot;co0003956&quot;,&quot;Altavista Films&quot;}, {&quot;co0007410&quot;,&quot;Zeta Film&quot;}]</td><td>2000000</td><td>20908467</td><td>[&quot;Drama&quot;, &quot;Thriller&quot;]</td><td>false</td><td>154</td><td>8.0</td><td>261026</td></tr><tr><td>&quot;tt0032976&quot;</td><td>&quot;https://www.imdb.com/title/tt0…</td><td>&quot;Rebecca&quot;</td><td>&quot;Rebecca&quot;</td><td>&quot;movie&quot;</td><td>&quot;A self-conscious woman juggles…</td><td>&quot;https://m.media-amazon.com/ima…</td><td>&quot;Approved&quot;</td><td>1940</td><td>null</td><td>&quot;1940-04-12&quot;</td><td>[&quot;Dark Romance&quot;, &quot;Psychological Thriller&quot;, … &quot;Thriller&quot;]</td><td>[&quot;US&quot;]</td><td>null</td><td>[&quot;en&quot;, &quot;fr&quot;]</td><td>[&quot;Big Sur, California, USA&quot;]</td><td>[{&quot;co0130901&quot;,&quot;Selznick International Pictures&quot;}]</td><td>1288000</td><td>113328</td><td>[&quot;Drama&quot;, &quot;Mystery&quot;, &quot;Romance&quot;]</td><td>false</td><td>130</td><td>8.1</td><td>153257</td></tr><tr><td>&quot;tt1954470&quot;</td><td>&quot;https://www.imdb.com/title/tt1…</td><td>&quot;Gangs of Wasseypur&quot;</td><td>&quot;Gangs of Wasseypur&quot;</td><td>&quot;movie&quot;</td><td>&quot;A clash between Sultan and Sha…</td><td>&quot;https://m.media-amazon.com/ima…</td><td>&quot;Not Rated&quot;</td><td>2012</td><td>null</td><td>&quot;2012-06-22&quot;</td><td>[&quot;Satire&quot;, &quot;True Crime&quot;, … &quot;Thriller&quot;]</td><td>[&quot;IN&quot;, &quot;FR&quot;]</td><td>[&quot;https://www.facebook.com/wasseypurworld&quot;]</td><td>[&quot;hi&quot;]</td><td>[&quot;Varanasi, Uttar Pradesh, India&quot;]</td><td>[{&quot;co0376813&quot;,&quot;Jar Pictures&quot;}, {&quot;co0387932&quot;,&quot;AKFPL&quot;}, {&quot;co0356297&quot;,&quot;Bohra Bros Productions&quot;}]</td><td>184000000</td><td>4384642</td><td>[&quot;Action&quot;, &quot;Comedy&quot;, &quot;Crime&quot;]</td><td>false</td><td>321</td><td>8.2</td><td>106973</td></tr></tbody></table></div>"
      ],
      "text/plain": [
       "shape: (250, 24)\n",
       "┌───────────┬────────────┬────────────┬───────────┬───┬─────────┬───────────┬───────────┬──────────┐\n",
       "│ id        ┆ url        ┆ primaryTit ┆ originalT ┆ … ┆ isAdult ┆ runtimeMi ┆ averageRa ┆ numVotes │\n",
       "│ ---       ┆ ---        ┆ le         ┆ itle      ┆   ┆ ---     ┆ nutes     ┆ ting      ┆ ---      │\n",
       "│ str       ┆ str        ┆ ---        ┆ ---       ┆   ┆ bool    ┆ ---       ┆ ---       ┆ i64      │\n",
       "│           ┆            ┆ str        ┆ str       ┆   ┆         ┆ i64       ┆ f64       ┆          │\n",
       "╞═══════════╪════════════╪════════════╪═══════════╪═══╪═════════╪═══════════╪═══════════╪══════════╡\n",
       "│ tt0111161 ┆ https://ww ┆ The        ┆ The       ┆ … ┆ false   ┆ 142       ┆ 9.3       ┆ 3019758  │\n",
       "│           ┆ w.imdb.com ┆ Shawshank  ┆ Shawshank ┆   ┆         ┆           ┆           ┆          │\n",
       "│           ┆ /title/tt0 ┆ Redemption ┆ Redemptio ┆   ┆         ┆           ┆           ┆          │\n",
       "│           ┆ …          ┆            ┆ n         ┆   ┆         ┆           ┆           ┆          │\n",
       "│ tt0068646 ┆ https://ww ┆ The        ┆ The       ┆ … ┆ false   ┆ 175       ┆ 9.2       ┆ 2107434  │\n",
       "│           ┆ w.imdb.com ┆ Godfather  ┆ Godfather ┆   ┆         ┆           ┆           ┆          │\n",
       "│           ┆ /title/tt0 ┆            ┆           ┆   ┆         ┆           ┆           ┆          │\n",
       "│           ┆ …          ┆            ┆           ┆   ┆         ┆           ┆           ┆          │\n",
       "│ tt0468569 ┆ https://ww ┆ The Dark   ┆ The Dark  ┆ … ┆ false   ┆ 152       ┆ 9.0       ┆ 2996039  │\n",
       "│           ┆ w.imdb.com ┆ Knight     ┆ Knight    ┆   ┆         ┆           ┆           ┆          │\n",
       "│           ┆ /title/tt0 ┆            ┆           ┆   ┆         ┆           ┆           ┆          │\n",
       "│           ┆ …          ┆            ┆           ┆   ┆         ┆           ┆           ┆          │\n",
       "│ tt0071562 ┆ https://ww ┆ The        ┆ The       ┆ … ┆ false   ┆ 202       ┆ 9.0       ┆ 1419319  │\n",
       "│           ┆ w.imdb.com ┆ Godfather  ┆ Godfather ┆   ┆         ┆           ┆           ┆          │\n",
       "│           ┆ /title/tt0 ┆ Part II    ┆ Part II   ┆   ┆         ┆           ┆           ┆          │\n",
       "│           ┆ …          ┆            ┆           ┆   ┆         ┆           ┆           ┆          │\n",
       "│ tt0050083 ┆ https://ww ┆ 12 Angry   ┆ 12 Angry  ┆ … ┆ false   ┆ 96        ┆ 9.0       ┆ 916629   │\n",
       "│           ┆ w.imdb.com ┆ Men        ┆ Men       ┆   ┆         ┆           ┆           ┆          │\n",
       "│           ┆ /title/tt0 ┆            ┆           ┆   ┆         ┆           ┆           ┆          │\n",
       "│           ┆ …          ┆            ┆           ┆   ┆         ┆           ┆           ┆          │\n",
       "│ …         ┆ …          ┆ …          ┆ …         ┆ … ┆ …       ┆ …         ┆ …         ┆ …        │\n",
       "│ tt5323662 ┆ https://ww ┆ A Silent   ┆ Koe no    ┆ … ┆ false   ┆ 130       ┆ 8.1       ┆ 116834   │\n",
       "│           ┆ w.imdb.com ┆ Voice: The ┆ katachi   ┆   ┆         ┆           ┆           ┆          │\n",
       "│           ┆ /title/tt5 ┆ Movie      ┆           ┆   ┆         ┆           ┆           ┆          │\n",
       "│           ┆ …          ┆            ┆           ┆   ┆         ┆           ┆           ┆          │\n",
       "│ tt1454029 ┆ https://ww ┆ The Help   ┆ The Help  ┆ … ┆ false   ┆ 146       ┆ 8.1       ┆ 509794   │\n",
       "│           ┆ w.imdb.com ┆            ┆           ┆   ┆         ┆           ┆           ┆          │\n",
       "│           ┆ /title/tt1 ┆            ┆           ┆   ┆         ┆           ┆           ┆          │\n",
       "│           ┆ …          ┆            ┆           ┆   ┆         ┆           ┆           ┆          │\n",
       "│ tt0245712 ┆ https://ww ┆ Amores     ┆ Amores    ┆ … ┆ false   ┆ 154       ┆ 8.0       ┆ 261026   │\n",
       "│           ┆ w.imdb.com ┆ Perros     ┆ perros    ┆   ┆         ┆           ┆           ┆          │\n",
       "│           ┆ /title/tt0 ┆            ┆           ┆   ┆         ┆           ┆           ┆          │\n",
       "│           ┆ …          ┆            ┆           ┆   ┆         ┆           ┆           ┆          │\n",
       "│ tt0032976 ┆ https://ww ┆ Rebecca    ┆ Rebecca   ┆ … ┆ false   ┆ 130       ┆ 8.1       ┆ 153257   │\n",
       "│           ┆ w.imdb.com ┆            ┆           ┆   ┆         ┆           ┆           ┆          │\n",
       "│           ┆ /title/tt0 ┆            ┆           ┆   ┆         ┆           ┆           ┆          │\n",
       "│           ┆ …          ┆            ┆           ┆   ┆         ┆           ┆           ┆          │\n",
       "│ tt1954470 ┆ https://ww ┆ Gangs of   ┆ Gangs of  ┆ … ┆ false   ┆ 321       ┆ 8.2       ┆ 106973   │\n",
       "│           ┆ w.imdb.com ┆ Wasseypur  ┆ Wasseypur ┆   ┆         ┆           ┆           ┆          │\n",
       "│           ┆ /title/tt1 ┆            ┆           ┆   ┆         ┆           ┆           ┆          │\n",
       "│           ┆ …          ┆            ┆           ┆   ┆         ┆           ┆           ┆          │\n",
       "└───────────┴────────────┴────────────┴───────────┴───┴─────────┴───────────┴───────────┴──────────┘"
      ]
     },
     "execution_count": 135,
     "metadata": {},
     "output_type": "execute_result"
    }
   ],
   "source": [
    "import polars as pl\n",
    "\n",
    "data = \"../data/data.json\"\n",
    "\n",
    "df = pl.read_json(data)\n",
    "df"
   ]
  },
  {
   "cell_type": "code",
   "execution_count": 136,
   "metadata": {},
   "outputs": [
    {
     "data": {
      "text/plain": [
       "['id',\n",
       " 'url',\n",
       " 'primaryTitle',\n",
       " 'originalTitle',\n",
       " 'type',\n",
       " 'description',\n",
       " 'primaryImage',\n",
       " 'contentRating',\n",
       " 'startYear',\n",
       " 'endYear',\n",
       " 'releaseDate',\n",
       " 'interests',\n",
       " 'countriesOfOrigin',\n",
       " 'externalLinks',\n",
       " 'spokenLanguages',\n",
       " 'filmingLocations',\n",
       " 'productionCompanies',\n",
       " 'budget',\n",
       " 'grossWorldwide',\n",
       " 'genres',\n",
       " 'isAdult',\n",
       " 'runtimeMinutes',\n",
       " 'averageRating',\n",
       " 'numVotes']"
      ]
     },
     "execution_count": 136,
     "metadata": {},
     "output_type": "execute_result"
    }
   ],
   "source": [
    "df.columns"
   ]
  },
  {
   "cell_type": "markdown",
   "metadata": {},
   "source": [
    "After carefully looking at the columns and data, I decided to have six tables:  \n",
    "\n",
    "### **Table 1: movies**  \n",
    "- id  \n",
    "- primaryTitle  \n",
    "- originalTitle  \n",
    "- type  \n",
    "- description  \n",
    "- primaryImage  \n",
    "- ContentRating  \n",
    "- isAdult  \n",
    "- runtimeMinutes  \n",
    "\n",
    "### **Table 2: movie_dates**  \n",
    "- movie_id  \n",
    "- startYear  \n",
    "- endYear  \n",
    "- releaseDate  \n",
    "\n",
    "### **Table 3: movie_financials**  \n",
    "- movie_id  \n",
    "- budget  \n",
    "- grossWorldwide  \n",
    "\n",
    "### **Table 4: production**  \n",
    "- movie_id  \n",
    "- filmingLocations  \n",
    "- productionCompanies  \n",
    "\n",
    "### **Table 5: external_links**  \n",
    "- movie_id  \n",
    "- url  \n",
    "\n",
    "### **Table 6: user_interactions**  \n",
    "- movie_id  \n",
    "- interest  \n",
    "- rating  \n",
    "- upvote  "
   ]
  },
  {
   "cell_type": "code",
   "execution_count": 137,
   "metadata": {},
   "outputs": [
    {
     "data": {
      "text/html": [
       "<div><style>\n",
       ".dataframe > thead > tr,\n",
       ".dataframe > tbody > tr {\n",
       "  text-align: right;\n",
       "  white-space: pre-wrap;\n",
       "}\n",
       "</style>\n",
       "<small>shape: (1, 24)</small><table border=\"1\" class=\"dataframe\"><thead><tr><th>id</th><th>url</th><th>primaryTitle</th><th>originalTitle</th><th>type</th><th>description</th><th>primaryImage</th><th>contentRating</th><th>startYear</th><th>endYear</th><th>releaseDate</th><th>interests</th><th>countriesOfOrigin</th><th>externalLinks</th><th>spokenLanguages</th><th>filmingLocations</th><th>productionCompanies</th><th>budget</th><th>grossWorldwide</th><th>genres</th><th>isAdult</th><th>runtimeMinutes</th><th>averageRating</th><th>numVotes</th></tr><tr><td>u32</td><td>u32</td><td>u32</td><td>u32</td><td>u32</td><td>u32</td><td>u32</td><td>u32</td><td>u32</td><td>u32</td><td>u32</td><td>u32</td><td>u32</td><td>u32</td><td>u32</td><td>u32</td><td>u32</td><td>u32</td><td>u32</td><td>u32</td><td>u32</td><td>u32</td><td>u32</td><td>u32</td></tr></thead><tbody><tr><td>0</td><td>0</td><td>0</td><td>0</td><td>0</td><td>0</td><td>0</td><td>5</td><td>0</td><td>250</td><td>0</td><td>0</td><td>0</td><td>68</td><td>1</td><td>16</td><td>1</td><td>19</td><td>3</td><td>0</td><td>0</td><td>0</td><td>0</td><td>0</td></tr></tbody></table></div>"
      ],
      "text/plain": [
       "shape: (1, 24)\n",
       "┌─────┬─────┬──────────────┬───────────────┬───┬─────────┬───────────────┬──────────────┬──────────┐\n",
       "│ id  ┆ url ┆ primaryTitle ┆ originalTitle ┆ … ┆ isAdult ┆ runtimeMinute ┆ averageRatin ┆ numVotes │\n",
       "│ --- ┆ --- ┆ ---          ┆ ---           ┆   ┆ ---     ┆ s             ┆ g            ┆ ---      │\n",
       "│ u32 ┆ u32 ┆ u32          ┆ u32           ┆   ┆ u32     ┆ ---           ┆ ---          ┆ u32      │\n",
       "│     ┆     ┆              ┆               ┆   ┆         ┆ u32           ┆ u32          ┆          │\n",
       "╞═════╪═════╪══════════════╪═══════════════╪═══╪═════════╪═══════════════╪══════════════╪══════════╡\n",
       "│ 0   ┆ 0   ┆ 0            ┆ 0             ┆ … ┆ 0       ┆ 0             ┆ 0            ┆ 0        │\n",
       "└─────┴─────┴──────────────┴───────────────┴───┴─────────┴───────────────┴──────────────┴──────────┘"
      ]
     },
     "execution_count": 137,
     "metadata": {},
     "output_type": "execute_result"
    }
   ],
   "source": [
    "# https://docs.pola.rs/api/python/stable/reference/dataframe/api/polars.DataFrame.null_count.html\n",
    "\n",
    "df.null_count()"
   ]
  },
  {
   "cell_type": "code",
   "execution_count": 138,
   "metadata": {},
   "outputs": [
    {
     "data": {
      "text/plain": [
       "Schema([('id', String),\n",
       "        ('url', String),\n",
       "        ('primaryTitle', String),\n",
       "        ('originalTitle', String),\n",
       "        ('type', String),\n",
       "        ('description', String),\n",
       "        ('primaryImage', String),\n",
       "        ('contentRating', String),\n",
       "        ('startYear', Int64),\n",
       "        ('endYear', Null),\n",
       "        ('releaseDate', String),\n",
       "        ('interests', List(String)),\n",
       "        ('countriesOfOrigin', List(String)),\n",
       "        ('externalLinks', List(String)),\n",
       "        ('spokenLanguages', List(String)),\n",
       "        ('filmingLocations', List(String)),\n",
       "        ('productionCompanies', List(Struct({'id': String, 'name': String}))),\n",
       "        ('budget', Int64),\n",
       "        ('grossWorldwide', Int64),\n",
       "        ('genres', List(String)),\n",
       "        ('isAdult', Boolean),\n",
       "        ('runtimeMinutes', Int64),\n",
       "        ('averageRating', Float64),\n",
       "        ('numVotes', Int64)])"
      ]
     },
     "execution_count": 138,
     "metadata": {},
     "output_type": "execute_result"
    }
   ],
   "source": [
    "df.schema"
   ]
  },
  {
   "cell_type": "code",
   "execution_count": 139,
   "metadata": {},
   "outputs": [
    {
     "data": {
      "text/html": [
       "<div><style>\n",
       ".dataframe > thead > tr,\n",
       ".dataframe > tbody > tr {\n",
       "  text-align: right;\n",
       "  white-space: pre-wrap;\n",
       "}\n",
       "</style>\n",
       "<small>shape: (5, 10)</small><table border=\"1\" class=\"dataframe\"><thead><tr><th>id</th><th>url</th><th>primaryTitle</th><th>originalTitle</th><th>type</th><th>description</th><th>primaryImage</th><th>contentRating</th><th>isAdult</th><th>runtimeMinutes</th></tr><tr><td>str</td><td>str</td><td>str</td><td>str</td><td>str</td><td>str</td><td>str</td><td>str</td><td>bool</td><td>i64</td></tr></thead><tbody><tr><td>&quot;tt0111161&quot;</td><td>&quot;https://www.imdb.com/title/tt0…</td><td>&quot;The Shawshank Redemption&quot;</td><td>&quot;The Shawshank Redemption&quot;</td><td>&quot;movie&quot;</td><td>&quot;A banker convicted of uxoricid…</td><td>&quot;https://m.media-amazon.com/ima…</td><td>&quot;R&quot;</td><td>false</td><td>142</td></tr><tr><td>&quot;tt0068646&quot;</td><td>&quot;https://www.imdb.com/title/tt0…</td><td>&quot;The Godfather&quot;</td><td>&quot;The Godfather&quot;</td><td>&quot;movie&quot;</td><td>&quot;The aging patriarch of an orga…</td><td>&quot;https://m.media-amazon.com/ima…</td><td>&quot;R&quot;</td><td>false</td><td>175</td></tr><tr><td>&quot;tt0468569&quot;</td><td>&quot;https://www.imdb.com/title/tt0…</td><td>&quot;The Dark Knight&quot;</td><td>&quot;The Dark Knight&quot;</td><td>&quot;movie&quot;</td><td>&quot;When a menace known as the Jok…</td><td>&quot;https://m.media-amazon.com/ima…</td><td>&quot;PG-13&quot;</td><td>false</td><td>152</td></tr><tr><td>&quot;tt0071562&quot;</td><td>&quot;https://www.imdb.com/title/tt0…</td><td>&quot;The Godfather Part II&quot;</td><td>&quot;The Godfather Part II&quot;</td><td>&quot;movie&quot;</td><td>&quot;The early life and career of V…</td><td>&quot;https://m.media-amazon.com/ima…</td><td>&quot;R&quot;</td><td>false</td><td>202</td></tr><tr><td>&quot;tt0050083&quot;</td><td>&quot;https://www.imdb.com/title/tt0…</td><td>&quot;12 Angry Men&quot;</td><td>&quot;12 Angry Men&quot;</td><td>&quot;movie&quot;</td><td>&quot;The jury in a New York City mu…</td><td>&quot;https://m.media-amazon.com/ima…</td><td>&quot;Approved&quot;</td><td>false</td><td>96</td></tr></tbody></table></div>"
      ],
      "text/plain": [
       "shape: (5, 10)\n",
       "┌───────────┬────────────┬───────────┬───────────┬───┬───────────┬───────────┬─────────┬───────────┐\n",
       "│ id        ┆ url        ┆ primaryTi ┆ originalT ┆ … ┆ primaryIm ┆ contentRa ┆ isAdult ┆ runtimeMi │\n",
       "│ ---       ┆ ---        ┆ tle       ┆ itle      ┆   ┆ age       ┆ ting      ┆ ---     ┆ nutes     │\n",
       "│ str       ┆ str        ┆ ---       ┆ ---       ┆   ┆ ---       ┆ ---       ┆ bool    ┆ ---       │\n",
       "│           ┆            ┆ str       ┆ str       ┆   ┆ str       ┆ str       ┆         ┆ i64       │\n",
       "╞═══════════╪════════════╪═══════════╪═══════════╪═══╪═══════════╪═══════════╪═════════╪═══════════╡\n",
       "│ tt0111161 ┆ https://ww ┆ The       ┆ The       ┆ … ┆ https://m ┆ R         ┆ false   ┆ 142       │\n",
       "│           ┆ w.imdb.com ┆ Shawshank ┆ Shawshank ┆   ┆ .media-am ┆           ┆         ┆           │\n",
       "│           ┆ /title/tt0 ┆ Redemptio ┆ Redemptio ┆   ┆ azon.com/ ┆           ┆         ┆           │\n",
       "│           ┆ …          ┆ n         ┆ n         ┆   ┆ ima…      ┆           ┆         ┆           │\n",
       "│ tt0068646 ┆ https://ww ┆ The       ┆ The       ┆ … ┆ https://m ┆ R         ┆ false   ┆ 175       │\n",
       "│           ┆ w.imdb.com ┆ Godfather ┆ Godfather ┆   ┆ .media-am ┆           ┆         ┆           │\n",
       "│           ┆ /title/tt0 ┆           ┆           ┆   ┆ azon.com/ ┆           ┆         ┆           │\n",
       "│           ┆ …          ┆           ┆           ┆   ┆ ima…      ┆           ┆         ┆           │\n",
       "│ tt0468569 ┆ https://ww ┆ The Dark  ┆ The Dark  ┆ … ┆ https://m ┆ PG-13     ┆ false   ┆ 152       │\n",
       "│           ┆ w.imdb.com ┆ Knight    ┆ Knight    ┆   ┆ .media-am ┆           ┆         ┆           │\n",
       "│           ┆ /title/tt0 ┆           ┆           ┆   ┆ azon.com/ ┆           ┆         ┆           │\n",
       "│           ┆ …          ┆           ┆           ┆   ┆ ima…      ┆           ┆         ┆           │\n",
       "│ tt0071562 ┆ https://ww ┆ The       ┆ The       ┆ … ┆ https://m ┆ R         ┆ false   ┆ 202       │\n",
       "│           ┆ w.imdb.com ┆ Godfather ┆ Godfather ┆   ┆ .media-am ┆           ┆         ┆           │\n",
       "│           ┆ /title/tt0 ┆ Part II   ┆ Part II   ┆   ┆ azon.com/ ┆           ┆         ┆           │\n",
       "│           ┆ …          ┆           ┆           ┆   ┆ ima…      ┆           ┆         ┆           │\n",
       "│ tt0050083 ┆ https://ww ┆ 12 Angry  ┆ 12 Angry  ┆ … ┆ https://m ┆ Approved  ┆ false   ┆ 96        │\n",
       "│           ┆ w.imdb.com ┆ Men       ┆ Men       ┆   ┆ .media-am ┆           ┆         ┆           │\n",
       "│           ┆ /title/tt0 ┆           ┆           ┆   ┆ azon.com/ ┆           ┆         ┆           │\n",
       "│           ┆ …          ┆           ┆           ┆   ┆ ima…      ┆           ┆         ┆           │\n",
       "└───────────┴────────────┴───────────┴───────────┴───┴───────────┴───────────┴─────────┴───────────┘"
      ]
     },
     "execution_count": 139,
     "metadata": {},
     "output_type": "execute_result"
    }
   ],
   "source": [
    "# Table 1: movies\n",
    "# - id  \n",
    "# - primaryTitle  \n",
    "# - originalTitle  \n",
    "# - type  \n",
    "# - description  \n",
    "# - primaryImage  \n",
    "# - ContentRating  \n",
    "# - isAdult  \n",
    "# - runtimeMinutes \n",
    "\n",
    "movies_df = df.select(['id', 'url','primaryTitle','originalTitle','type','description',\\\n",
    "           'primaryImage','contentRating','isAdult','runtimeMinutes'])\n",
    "\n",
    "movies_df.head()"
   ]
  },
  {
   "cell_type": "code",
   "execution_count": 140,
   "metadata": {},
   "outputs": [
    {
     "data": {
      "text/plain": [
       "250"
      ]
     },
     "execution_count": 140,
     "metadata": {},
     "output_type": "execute_result"
    }
   ],
   "source": [
    "len(df)"
   ]
  },
  {
   "cell_type": "code",
   "execution_count": 141,
   "metadata": {},
   "outputs": [
    {
     "data": {
      "text/plain": [
       "250"
      ]
     },
     "execution_count": 141,
     "metadata": {},
     "output_type": "execute_result"
    }
   ],
   "source": [
    "# https://www.geeksforgeeks.org/what-is-the-equivalent-of-dataframedropduplicates-from-pandas-in-polars/\n",
    "df = df.unique(subset=[\"id\"], keep=\"first\")\n",
    "len(df)"
   ]
  },
  {
   "cell_type": "code",
   "execution_count": 142,
   "metadata": {},
   "outputs": [
    {
     "data": {
      "text/html": [
       "<div><style>\n",
       ".dataframe > thead > tr,\n",
       ".dataframe > tbody > tr {\n",
       "  text-align: right;\n",
       "  white-space: pre-wrap;\n",
       "}\n",
       "</style>\n",
       "<small>shape: (0, 24)</small><table border=\"1\" class=\"dataframe\"><thead><tr><th>id</th><th>url</th><th>primaryTitle</th><th>originalTitle</th><th>type</th><th>description</th><th>primaryImage</th><th>contentRating</th><th>startYear</th><th>endYear</th><th>releaseDate</th><th>interests</th><th>countriesOfOrigin</th><th>externalLinks</th><th>spokenLanguages</th><th>filmingLocations</th><th>productionCompanies</th><th>budget</th><th>grossWorldwide</th><th>genres</th><th>isAdult</th><th>runtimeMinutes</th><th>averageRating</th><th>numVotes</th></tr><tr><td>str</td><td>str</td><td>str</td><td>str</td><td>str</td><td>str</td><td>str</td><td>str</td><td>i64</td><td>null</td><td>str</td><td>list[str]</td><td>list[str]</td><td>list[str]</td><td>list[str]</td><td>list[str]</td><td>list[struct[2]]</td><td>i64</td><td>i64</td><td>list[str]</td><td>bool</td><td>i64</td><td>f64</td><td>i64</td></tr></thead><tbody></tbody></table></div>"
      ],
      "text/plain": [
       "shape: (0, 24)\n",
       "┌─────┬─────┬──────────────┬───────────────┬───┬─────────┬───────────────┬──────────────┬──────────┐\n",
       "│ id  ┆ url ┆ primaryTitle ┆ originalTitle ┆ … ┆ isAdult ┆ runtimeMinute ┆ averageRatin ┆ numVotes │\n",
       "│ --- ┆ --- ┆ ---          ┆ ---           ┆   ┆ ---     ┆ s             ┆ g            ┆ ---      │\n",
       "│ str ┆ str ┆ str          ┆ str           ┆   ┆ bool    ┆ ---           ┆ ---          ┆ i64      │\n",
       "│     ┆     ┆              ┆               ┆   ┆         ┆ i64           ┆ f64          ┆          │\n",
       "╞═════╪═════╪══════════════╪═══════════════╪═══╪═════════╪═══════════════╪══════════════╪══════════╡\n",
       "└─────┴─────┴──────────────┴───────────────┴───┴─────────┴───────────────┴──────────────┴──────────┘"
      ]
     },
     "execution_count": 142,
     "metadata": {},
     "output_type": "execute_result"
    }
   ],
   "source": [
    "df.filter(df.is_duplicated())"
   ]
  },
  {
   "cell_type": "code",
   "execution_count": 143,
   "metadata": {},
   "outputs": [
    {
     "data": {
      "text/html": [
       "<div><style>\n",
       ".dataframe > thead > tr,\n",
       ".dataframe > tbody > tr {\n",
       "  text-align: right;\n",
       "  white-space: pre-wrap;\n",
       "}\n",
       "</style>\n",
       "<small>shape: (5, 3)</small><table border=\"1\" class=\"dataframe\"><thead><tr><th>id</th><th>startYear</th><th>releaseDate</th></tr><tr><td>str</td><td>i64</td><td>date</td></tr></thead><tbody><tr><td>&quot;tt0266543&quot;</td><td>2003</td><td>2003-05-30</td></tr><tr><td>&quot;tt0080684&quot;</td><td>1980</td><td>1980-06-18</td></tr><tr><td>&quot;tt7286456&quot;</td><td>2019</td><td>2019-10-04</td></tr><tr><td>&quot;tt0114709&quot;</td><td>1995</td><td>1995-11-22</td></tr><tr><td>&quot;tt0129167&quot;</td><td>1999</td><td>1999-08-06</td></tr></tbody></table></div>"
      ],
      "text/plain": [
       "shape: (5, 3)\n",
       "┌───────────┬───────────┬─────────────┐\n",
       "│ id        ┆ startYear ┆ releaseDate │\n",
       "│ ---       ┆ ---       ┆ ---         │\n",
       "│ str       ┆ i64       ┆ date        │\n",
       "╞═══════════╪═══════════╪═════════════╡\n",
       "│ tt0266543 ┆ 2003      ┆ 2003-05-30  │\n",
       "│ tt0080684 ┆ 1980      ┆ 1980-06-18  │\n",
       "│ tt7286456 ┆ 2019      ┆ 2019-10-04  │\n",
       "│ tt0114709 ┆ 1995      ┆ 1995-11-22  │\n",
       "│ tt0129167 ┆ 1999      ┆ 1999-08-06  │\n",
       "└───────────┴───────────┴─────────────┘"
      ]
     },
     "execution_count": 143,
     "metadata": {},
     "output_type": "execute_result"
    }
   ],
   "source": [
    "# Table 2: movie_dates\n",
    "# - movie_id  \n",
    "# - startYear  \n",
    "# - endYear - contains nulls\n",
    "# - releaseDate  \n",
    "movies_date = df.select(['id','startYear','releaseDate'])\n",
    "\n",
    "# format realease data to datetime\n",
    "# https://docs.pola.rs/api/python/dev/reference/expressions/api/polars.Expr.str.to_datetime.html\n",
    "movies_date = movies_date.with_columns(\n",
    "    pl.col(\"releaseDate\").str.to_date(\"%Y-%m-%d\")\n",
    ")\n",
    "movies_date.head()"
   ]
  },
  {
   "cell_type": "code",
   "execution_count": 144,
   "metadata": {},
   "outputs": [
    {
     "data": {
      "text/html": [
       "<div><style>\n",
       ".dataframe > thead > tr,\n",
       ".dataframe > tbody > tr {\n",
       "  text-align: right;\n",
       "  white-space: pre-wrap;\n",
       "}\n",
       "</style>\n",
       "<small>shape: (5, 3)</small><table border=\"1\" class=\"dataframe\"><thead><tr><th>id</th><th>budget</th><th>grossWorldwide</th></tr><tr><td>str</td><td>i64</td><td>i64</td></tr></thead><tbody><tr><td>&quot;tt0266543&quot;</td><td>94000000</td><td>941637960</td></tr><tr><td>&quot;tt0080684&quot;</td><td>18000000</td><td>550016086</td></tr><tr><td>&quot;tt7286456&quot;</td><td>55000000</td><td>1078958629</td></tr><tr><td>&quot;tt0114709&quot;</td><td>30000000</td><td>394436586</td></tr><tr><td>&quot;tt0129167&quot;</td><td>70000000</td><td>23337631</td></tr></tbody></table></div>"
      ],
      "text/plain": [
       "shape: (5, 3)\n",
       "┌───────────┬──────────┬────────────────┐\n",
       "│ id        ┆ budget   ┆ grossWorldwide │\n",
       "│ ---       ┆ ---      ┆ ---            │\n",
       "│ str       ┆ i64      ┆ i64            │\n",
       "╞═══════════╪══════════╪════════════════╡\n",
       "│ tt0266543 ┆ 94000000 ┆ 941637960      │\n",
       "│ tt0080684 ┆ 18000000 ┆ 550016086      │\n",
       "│ tt7286456 ┆ 55000000 ┆ 1078958629     │\n",
       "│ tt0114709 ┆ 30000000 ┆ 394436586      │\n",
       "│ tt0129167 ┆ 70000000 ┆ 23337631       │\n",
       "└───────────┴──────────┴────────────────┘"
      ]
     },
     "execution_count": 144,
     "metadata": {},
     "output_type": "execute_result"
    }
   ],
   "source": [
    "# Table 3: movie_financials \n",
    "# - movie_id  \n",
    "# - budget  \n",
    "# - grossWorldwide  \n",
    "movies_finance_df = df.select(['id','budget','grossWorldwide'])\n",
    "movies_finance_df.head()"
   ]
  },
  {
   "cell_type": "code",
   "execution_count": 145,
   "metadata": {},
   "outputs": [
    {
     "data": {
      "text/html": [
       "<div><style>\n",
       ".dataframe > thead > tr,\n",
       ".dataframe > tbody > tr {\n",
       "  text-align: right;\n",
       "  white-space: pre-wrap;\n",
       "}\n",
       "</style>\n",
       "<small>shape: (10, 3)</small><table border=\"1\" class=\"dataframe\"><thead><tr><th>id</th><th>filmingLocations</th><th>countriesOfOrigin</th></tr><tr><td>str</td><td>list[str]</td><td>list[str]</td></tr></thead><tbody><tr><td>&quot;tt0017136&quot;</td><td>[&quot;Berlin, Germany&quot;]</td><td>[&quot;DE&quot;]</td></tr><tr><td>&quot;tt0056172&quot;</td><td>[&quot;Wadi Rum, Jordan&quot;]</td><td>[&quot;GB&quot;, &quot;US&quot;]</td></tr><tr><td>&quot;tt0107048&quot;</td><td>[&quot;344 Fremont St, Woodstock, Illinois, USA&quot;]</td><td>[&quot;US&quot;]</td></tr><tr><td>&quot;tt4633694&quot;</td><td>null</td><td>[&quot;CA&quot;, &quot;US&quot;]</td></tr><tr><td>&quot;tt0198781&quot;</td><td>[&quot;Pixar Animation Studios - 1200 Park Avenue, Emeryville, California, USA&quot;]</td><td>[&quot;US&quot;]</td></tr><tr><td>&quot;tt0075148&quot;</td><td>[&quot;1818 East Tusculum Street, Kensington, North Philadelphia, Pennsylvania, USA&quot;]</td><td>[&quot;US&quot;]</td></tr><tr><td>&quot;tt0482571&quot;</td><td>[&quot;Durango and Silverton Narrow Gauge Railroad, Colorado, USA&quot;]</td><td>[&quot;GB&quot;, &quot;US&quot;]</td></tr><tr><td>&quot;tt0118715&quot;</td><td>[&quot;South Pasadena, California, USA&quot;]</td><td>[&quot;GB&quot;, &quot;US&quot;]</td></tr><tr><td>&quot;tt0083658&quot;</td><td>[&quot;Bradbury Building - 304 S. Broadway, Downtown, Los Angeles, California, USA&quot;]</td><td>[&quot;US&quot;, &quot;GB&quot;]</td></tr><tr><td>&quot;tt16492678&quot;</td><td>null</td><td>[&quot;JP&quot;]</td></tr></tbody></table></div>"
      ],
      "text/plain": [
       "shape: (10, 3)\n",
       "┌────────────┬─────────────────────────────────┬───────────────────┐\n",
       "│ id         ┆ filmingLocations                ┆ countriesOfOrigin │\n",
       "│ ---        ┆ ---                             ┆ ---               │\n",
       "│ str        ┆ list[str]                       ┆ list[str]         │\n",
       "╞════════════╪═════════════════════════════════╪═══════════════════╡\n",
       "│ tt0017136  ┆ [\"Berlin, Germany\"]             ┆ [\"DE\"]            │\n",
       "│ tt0056172  ┆ [\"Wadi Rum, Jordan\"]            ┆ [\"GB\", \"US\"]      │\n",
       "│ tt0107048  ┆ [\"344 Fremont St, Woodstock, I… ┆ [\"US\"]            │\n",
       "│ tt4633694  ┆ null                            ┆ [\"CA\", \"US\"]      │\n",
       "│ tt0198781  ┆ [\"Pixar Animation Studios - 12… ┆ [\"US\"]            │\n",
       "│ tt0075148  ┆ [\"1818 East Tusculum Street, K… ┆ [\"US\"]            │\n",
       "│ tt0482571  ┆ [\"Durango and Silverton Narrow… ┆ [\"GB\", \"US\"]      │\n",
       "│ tt0118715  ┆ [\"South Pasadena, California, … ┆ [\"GB\", \"US\"]      │\n",
       "│ tt0083658  ┆ [\"Bradbury Building - 304 S. B… ┆ [\"US\", \"GB\"]      │\n",
       "│ tt16492678 ┆ null                            ┆ [\"JP\"]            │\n",
       "└────────────┴─────────────────────────────────┴───────────────────┘"
      ]
     },
     "execution_count": 145,
     "metadata": {},
     "output_type": "execute_result"
    }
   ],
   "source": [
    "# Table 4: location\n",
    "# - movie_id  \n",
    "# - filmingLocations  \n",
    "# - countriesOrigin\n",
    "\n",
    "movies_location_df = df.select(['id','filmingLocations','countriesOfOrigin'])\n",
    "movies_location_df.tail(10) "
   ]
  },
  {
   "cell_type": "code",
   "execution_count": 146,
   "metadata": {},
   "outputs": [
    {
     "data": {
      "text/html": [
       "<div><style>\n",
       ".dataframe > thead > tr,\n",
       ".dataframe > tbody > tr {\n",
       "  text-align: right;\n",
       "  white-space: pre-wrap;\n",
       "}\n",
       "</style>\n",
       "<small>shape: (390, 3)</small><table border=\"1\" class=\"dataframe\"><thead><tr><th>id</th><th>filmingLocations</th><th>countriesOfOrigin</th></tr><tr><td>str</td><td>list[str]</td><td>str</td></tr></thead><tbody><tr><td>&quot;tt0266543&quot;</td><td>[&quot;Pixar Animation Studios - 1200 Park Avenue, Emeryville, California, USA&quot;]</td><td>&quot;US&quot;</td></tr><tr><td>&quot;tt0266543&quot;</td><td>[&quot;Pixar Animation Studios - 1200 Park Avenue, Emeryville, California, USA&quot;]</td><td>&quot;JP&quot;</td></tr><tr><td>&quot;tt0080684&quot;</td><td>[&quot;Hardangerjøkulen Glacier, Finse, Norway&quot;]</td><td>&quot;US&quot;</td></tr><tr><td>&quot;tt7286456&quot;</td><td>[&quot;1150 Anderson Ave, The Bronx, New York City, New York, USA&quot;]</td><td>&quot;US&quot;</td></tr><tr><td>&quot;tt7286456&quot;</td><td>[&quot;1150 Anderson Ave, The Bronx, New York City, New York, USA&quot;]</td><td>&quot;CA&quot;</td></tr><tr><td>&hellip;</td><td>&hellip;</td><td>&hellip;</td></tr><tr><td>&quot;tt0118715&quot;</td><td>[&quot;South Pasadena, California, USA&quot;]</td><td>&quot;GB&quot;</td></tr><tr><td>&quot;tt0118715&quot;</td><td>[&quot;South Pasadena, California, USA&quot;]</td><td>&quot;US&quot;</td></tr><tr><td>&quot;tt0083658&quot;</td><td>[&quot;Bradbury Building - 304 S. Broadway, Downtown, Los Angeles, California, USA&quot;]</td><td>&quot;US&quot;</td></tr><tr><td>&quot;tt0083658&quot;</td><td>[&quot;Bradbury Building - 304 S. Broadway, Downtown, Los Angeles, California, USA&quot;]</td><td>&quot;GB&quot;</td></tr><tr><td>&quot;tt16492678&quot;</td><td>null</td><td>&quot;JP&quot;</td></tr></tbody></table></div>"
      ],
      "text/plain": [
       "shape: (390, 3)\n",
       "┌────────────┬─────────────────────────────────┬───────────────────┐\n",
       "│ id         ┆ filmingLocations                ┆ countriesOfOrigin │\n",
       "│ ---        ┆ ---                             ┆ ---               │\n",
       "│ str        ┆ list[str]                       ┆ str               │\n",
       "╞════════════╪═════════════════════════════════╪═══════════════════╡\n",
       "│ tt0266543  ┆ [\"Pixar Animation Studios - 12… ┆ US                │\n",
       "│ tt0266543  ┆ [\"Pixar Animation Studios - 12… ┆ JP                │\n",
       "│ tt0080684  ┆ [\"Hardangerjøkulen Glacier, Fi… ┆ US                │\n",
       "│ tt7286456  ┆ [\"1150 Anderson Ave, The Bronx… ┆ US                │\n",
       "│ tt7286456  ┆ [\"1150 Anderson Ave, The Bronx… ┆ CA                │\n",
       "│ …          ┆ …                               ┆ …                 │\n",
       "│ tt0118715  ┆ [\"South Pasadena, California, … ┆ GB                │\n",
       "│ tt0118715  ┆ [\"South Pasadena, California, … ┆ US                │\n",
       "│ tt0083658  ┆ [\"Bradbury Building - 304 S. B… ┆ US                │\n",
       "│ tt0083658  ┆ [\"Bradbury Building - 304 S. B… ┆ GB                │\n",
       "│ tt16492678 ┆ null                            ┆ JP                │\n",
       "└────────────┴─────────────────────────────────┴───────────────────┘"
      ]
     },
     "execution_count": 146,
     "metadata": {},
     "output_type": "execute_result"
    }
   ],
   "source": []
  },
  {
   "cell_type": "code",
   "execution_count": 147,
   "metadata": {},
   "outputs": [
    {
     "data": {
      "text/html": [
       "<div><style>\n",
       ".dataframe > thead > tr,\n",
       ".dataframe > tbody > tr {\n",
       "  text-align: right;\n",
       "  white-space: pre-wrap;\n",
       "}\n",
       "</style>\n",
       "<small>shape: (5, 2)</small><table border=\"1\" class=\"dataframe\"><thead><tr><th>id</th><th>productionCompanies</th></tr><tr><td>str</td><td>list[struct[2]]</td></tr></thead><tbody><tr><td>&quot;tt0266543&quot;</td><td>[{&quot;co0008970&quot;,&quot;Walt Disney Pictures&quot;}, {&quot;co0017902&quot;,&quot;Pixar Animation Studios&quot;}]</td></tr><tr><td>&quot;tt0080684&quot;</td><td>[{&quot;co0071326&quot;,&quot;Lucasfilm&quot;}]</td></tr><tr><td>&quot;tt7286456&quot;</td><td>[{&quot;co0002663&quot;,&quot;Warner Bros.&quot;}, {&quot;co0227121&quot;,&quot;Village Roadshow Pictures&quot;}, {&quot;co0309252&quot;,&quot;BRON Studios&quot;}]</td></tr><tr><td>&quot;tt0114709&quot;</td><td>[{&quot;co0008970&quot;,&quot;Walt Disney Pictures&quot;}, {&quot;co0017902&quot;,&quot;Pixar Animation Studios&quot;}]</td></tr><tr><td>&quot;tt0129167&quot;</td><td>[{&quot;co0002663&quot;,&quot;Warner Bros.&quot;}, {&quot;co0072876&quot;,&quot;Warner Bros. Animation&quot;}, {&quot;co0012442&quot;,&quot;Warner Bros. Feature Animation&quot;}]</td></tr></tbody></table></div>"
      ],
      "text/plain": [
       "shape: (5, 2)\n",
       "┌───────────┬─────────────────────────────────┐\n",
       "│ id        ┆ productionCompanies             │\n",
       "│ ---       ┆ ---                             │\n",
       "│ str       ┆ list[struct[2]]                 │\n",
       "╞═══════════╪═════════════════════════════════╡\n",
       "│ tt0266543 ┆ [{\"co0008970\",\"Walt Disney Pic… │\n",
       "│ tt0080684 ┆ [{\"co0071326\",\"Lucasfilm\"}]     │\n",
       "│ tt7286456 ┆ [{\"co0002663\",\"Warner Bros.\"},… │\n",
       "│ tt0114709 ┆ [{\"co0008970\",\"Walt Disney Pic… │\n",
       "│ tt0129167 ┆ [{\"co0002663\",\"Warner Bros.\"},… │\n",
       "└───────────┴─────────────────────────────────┘"
      ]
     },
     "execution_count": 147,
     "metadata": {},
     "output_type": "execute_result"
    }
   ],
   "source": [
    "# Table 5: production\n",
    "movies_production_df = df.select(['id','productionCompanies'])\n",
    "movies_production_df.head() "
   ]
  },
  {
   "cell_type": "code",
   "execution_count": 148,
   "metadata": {},
   "outputs": [
    {
     "data": {
      "text/html": [
       "<div><style>\n",
       ".dataframe > thead > tr,\n",
       ".dataframe > tbody > tr {\n",
       "  text-align: right;\n",
       "  white-space: pre-wrap;\n",
       "}\n",
       "</style>\n",
       "<small>shape: (1, 2)</small><table border=\"1\" class=\"dataframe\"><thead><tr><th>id</th><th>productionCompanies</th></tr><tr><td>str</td><td>list[struct[2]]</td></tr></thead><tbody><tr><td>&quot;tt0266543&quot;</td><td>[{&quot;co0008970&quot;,&quot;Walt Disney Pictures&quot;}, {&quot;co0017902&quot;,&quot;Pixar Animation Studios&quot;}]</td></tr></tbody></table></div>"
      ],
      "text/plain": [
       "shape: (1, 2)\n",
       "┌───────────┬─────────────────────────────────┐\n",
       "│ id        ┆ productionCompanies             │\n",
       "│ ---       ┆ ---                             │\n",
       "│ str       ┆ list[struct[2]]                 │\n",
       "╞═══════════╪═════════════════════════════════╡\n",
       "│ tt0266543 ┆ [{\"co0008970\",\"Walt Disney Pic… │\n",
       "└───────────┴─────────────────────────────────┘"
      ]
     },
     "execution_count": 148,
     "metadata": {},
     "output_type": "execute_result"
    }
   ],
   "source": [
    "movies_production_df[0]"
   ]
  },
  {
   "cell_type": "code",
   "execution_count": 149,
   "metadata": {},
   "outputs": [
    {
     "name": "stdout",
     "output_type": "stream",
     "text": [
      "shape: (574, 3)\n",
      "┌────────────┬──────────────────────┬───────────────────────────┐\n",
      "│ id         ┆ productionCompany_id ┆ productionCompany_name    │\n",
      "│ ---        ┆ ---                  ┆ ---                       │\n",
      "│ str        ┆ str                  ┆ str                       │\n",
      "╞════════════╪══════════════════════╪═══════════════════════════╡\n",
      "│ tt0266543  ┆ co0008970            ┆ Walt Disney Pictures      │\n",
      "│ tt0266543  ┆ co0017902            ┆ Pixar Animation Studios   │\n",
      "│ tt0080684  ┆ co0071326            ┆ Lucasfilm                 │\n",
      "│ tt7286456  ┆ co0002663            ┆ Warner Bros.              │\n",
      "│ tt7286456  ┆ co0227121            ┆ Village Roadshow Pictures │\n",
      "│ …          ┆ …                    ┆ …                         │\n",
      "│ tt0118715  ┆ co0057311            ┆ Working Title Films       │\n",
      "│ tt0083658  ┆ co0042559            ┆ The Ladd Company          │\n",
      "│ tt0083658  ┆ co0484967            ┆ Shaw Brothers             │\n",
      "│ tt0083658  ┆ co0002663            ┆ Warner Bros.              │\n",
      "│ tt16492678 ┆ null                 ┆ null                      │\n",
      "└────────────┴──────────────────────┴───────────────────────────┘\n"
     ]
    }
   ],
   "source": [
    "# Explode, extract struct fields, and drop the original column\n",
    "movies_production_df = (\n",
    "    movies_production_df\n",
    "    .explode(\"productionCompanies\") \n",
    "    .with_columns(\n",
    "        pl.col(\"productionCompanies\").struct.field(\"id\").alias(\"productionCompany_id\"),\n",
    "        pl.col(\"productionCompanies\").struct.field(\"name\").alias(\"productionCompany_name\")\n",
    "    )\n",
    "    .drop(\"productionCompanies\") \n",
    ")\n",
    "\n",
    "print(movies_production_df)"
   ]
  },
  {
   "cell_type": "code",
   "execution_count": 150,
   "metadata": {},
   "outputs": [
    {
     "data": {
      "text/html": [
       "<div><style>\n",
       ".dataframe > thead > tr,\n",
       ".dataframe > tbody > tr {\n",
       "  text-align: right;\n",
       "  white-space: pre-wrap;\n",
       "}\n",
       "</style>\n",
       "<small>shape: (5, 2)</small><table border=\"1\" class=\"dataframe\"><thead><tr><th>id</th><th>externalLinks</th></tr><tr><td>str</td><td>list[str]</td></tr></thead><tbody><tr><td>&quot;tt0266543&quot;</td><td>[&quot;https://www.facebook.com/PixarFindingNemo&quot;, &quot;http://movies.disney.com/finding-nemo&quot;]</td></tr><tr><td>&quot;tt0080684&quot;</td><td>[&quot;https://www.lucasfilm.com/productions/episode-v/&quot;, &quot;https://www.starwars.com/films/star-wars-episode-v-the-empire-strikes-back&quot;]</td></tr><tr><td>&quot;tt7286456&quot;</td><td>[&quot;https://www.facebook.com/jokermovie/&quot;, &quot;https://www.instagram.com/jokermovie/&quot;]</td></tr><tr><td>&quot;tt0114709&quot;</td><td>[&quot;https://www.facebook.com/PixarToyStory&quot;, &quot;http://toystory.disney.com/toy-story&quot;]</td></tr><tr><td>&quot;tt0129167&quot;</td><td>[&quot;http://theirongiantmovie.com/&quot;, &quot;http://www.warnerbros.com/movies/iron-giant&quot;]</td></tr></tbody></table></div>"
      ],
      "text/plain": [
       "shape: (5, 2)\n",
       "┌───────────┬─────────────────────────────────┐\n",
       "│ id        ┆ externalLinks                   │\n",
       "│ ---       ┆ ---                             │\n",
       "│ str       ┆ list[str]                       │\n",
       "╞═══════════╪═════════════════════════════════╡\n",
       "│ tt0266543 ┆ [\"https://www.facebook.com/Pix… │\n",
       "│ tt0080684 ┆ [\"https://www.lucasfilm.com/pr… │\n",
       "│ tt7286456 ┆ [\"https://www.facebook.com/jok… │\n",
       "│ tt0114709 ┆ [\"https://www.facebook.com/Pix… │\n",
       "│ tt0129167 ┆ [\"http://theirongiantmovie.com… │\n",
       "└───────────┴─────────────────────────────────┘"
      ]
     },
     "execution_count": 150,
     "metadata": {},
     "output_type": "execute_result"
    }
   ],
   "source": [
    "# Table 7: external_links\n",
    "# - movie_id  \n",
    "# - externalLinks \n",
    "\n",
    "movies_url_df = df.select(['id','externalLinks'])\n",
    "movies_url_df.head()"
   ]
  },
  {
   "cell_type": "code",
   "execution_count": 151,
   "metadata": {},
   "outputs": [
    {
     "data": {
      "text/html": [
       "<div><style>\n",
       ".dataframe > thead > tr,\n",
       ".dataframe > tbody > tr {\n",
       "  text-align: right;\n",
       "  white-space: pre-wrap;\n",
       "}\n",
       "</style>\n",
       "<small>shape: (5, 4)</small><table border=\"1\" class=\"dataframe\"><thead><tr><th>id</th><th>interests</th><th>averageRating</th><th>numVotes</th></tr><tr><td>str</td><td>str</td><td>f64</td><td>i64</td></tr></thead><tbody><tr><td>&quot;tt0266543&quot;</td><td>&quot;Animal Adventure&quot;</td><td>8.2</td><td>1152296</td></tr><tr><td>&quot;tt0266543&quot;</td><td>&quot;Buddy Comedy&quot;</td><td>8.2</td><td>1152296</td></tr><tr><td>&quot;tt0266543&quot;</td><td>&quot;Computer Animation&quot;</td><td>8.2</td><td>1152296</td></tr><tr><td>&quot;tt0266543&quot;</td><td>&quot;Quest&quot;</td><td>8.2</td><td>1152296</td></tr><tr><td>&quot;tt0266543&quot;</td><td>&quot;Sea Adventure&quot;</td><td>8.2</td><td>1152296</td></tr></tbody></table></div>"
      ],
      "text/plain": [
       "shape: (5, 4)\n",
       "┌───────────┬────────────────────┬───────────────┬──────────┐\n",
       "│ id        ┆ interests          ┆ averageRating ┆ numVotes │\n",
       "│ ---       ┆ ---                ┆ ---           ┆ ---      │\n",
       "│ str       ┆ str                ┆ f64           ┆ i64      │\n",
       "╞═══════════╪════════════════════╪═══════════════╪══════════╡\n",
       "│ tt0266543 ┆ Animal Adventure   ┆ 8.2           ┆ 1152296  │\n",
       "│ tt0266543 ┆ Buddy Comedy       ┆ 8.2           ┆ 1152296  │\n",
       "│ tt0266543 ┆ Computer Animation ┆ 8.2           ┆ 1152296  │\n",
       "│ tt0266543 ┆ Quest              ┆ 8.2           ┆ 1152296  │\n",
       "│ tt0266543 ┆ Sea Adventure      ┆ 8.2           ┆ 1152296  │\n",
       "└───────────┴────────────────────┴───────────────┴──────────┘"
      ]
     },
     "execution_count": 151,
     "metadata": {},
     "output_type": "execute_result"
    }
   ],
   "source": [
    "# Table 6: user_interactions\n",
    "# - movie_id  \n",
    "# - interest  \n",
    "# - averageRating  \n",
    "# - numVotes\n",
    "\t\n",
    "\n",
    "movie_user = df.select(['id','interests','averageRating','numVotes'])\n",
    "movie_user = movie_user.explode('interests')\n",
    "movie_user .head()"
   ]
  },
  {
   "cell_type": "code",
   "execution_count": 152,
   "metadata": {},
   "outputs": [
    {
     "data": {
      "text/html": [
       "<div><style>\n",
       ".dataframe > thead > tr,\n",
       ".dataframe > tbody > tr {\n",
       "  text-align: right;\n",
       "  white-space: pre-wrap;\n",
       "}\n",
       "</style>\n",
       "<small>shape: (139, 1)</small><table border=\"1\" class=\"dataframe\"><thead><tr><th>interests</th></tr><tr><td>str</td></tr></thead><tbody><tr><td>&quot;Slice of Life&quot;</td></tr><tr><td>&quot;Adventure&quot;</td></tr><tr><td>&quot;Crime&quot;</td></tr><tr><td>&quot;Cop Drama&quot;</td></tr><tr><td>&quot;Romantic Comedy&quot;</td></tr><tr><td>&hellip;</td></tr><tr><td>&quot;Legal Drama&quot;</td></tr><tr><td>&quot;Romantic Epic&quot;</td></tr><tr><td>&quot;Stoner Comedy&quot;</td></tr><tr><td>&quot;Tragic Romance&quot;</td></tr><tr><td>&quot;Financial Drama&quot;</td></tr></tbody></table></div>"
      ],
      "text/plain": [
       "shape: (139, 1)\n",
       "┌─────────────────┐\n",
       "│ interests       │\n",
       "│ ---             │\n",
       "│ str             │\n",
       "╞═════════════════╡\n",
       "│ Slice of Life   │\n",
       "│ Adventure       │\n",
       "│ Crime           │\n",
       "│ Cop Drama       │\n",
       "│ Romantic Comedy │\n",
       "│ …               │\n",
       "│ Legal Drama     │\n",
       "│ Romantic Epic   │\n",
       "│ Stoner Comedy   │\n",
       "│ Tragic Romance  │\n",
       "│ Financial Drama │\n",
       "└─────────────────┘"
      ]
     },
     "execution_count": 152,
     "metadata": {},
     "output_type": "execute_result"
    }
   ],
   "source": [
    "movie_user.select('interests').unique()"
   ]
  },
  {
   "cell_type": "code",
   "execution_count": 153,
   "metadata": {},
   "outputs": [
    {
     "data": {
      "text/html": [
       "<div><style>\n",
       ".dataframe > thead > tr,\n",
       ".dataframe > tbody > tr {\n",
       "  text-align: right;\n",
       "  white-space: pre-wrap;\n",
       "}\n",
       "</style>\n",
       "<small>shape: (5, 2)</small><table border=\"1\" class=\"dataframe\"><thead><tr><th>id</th><th>genres</th></tr><tr><td>str</td><td>str</td></tr></thead><tbody><tr><td>&quot;tt0266543&quot;</td><td>&quot;Adventure&quot;</td></tr><tr><td>&quot;tt0266543&quot;</td><td>&quot;Animation&quot;</td></tr><tr><td>&quot;tt0266543&quot;</td><td>&quot;Comedy&quot;</td></tr><tr><td>&quot;tt0080684&quot;</td><td>&quot;Action&quot;</td></tr><tr><td>&quot;tt0080684&quot;</td><td>&quot;Adventure&quot;</td></tr></tbody></table></div>"
      ],
      "text/plain": [
       "shape: (5, 2)\n",
       "┌───────────┬───────────┐\n",
       "│ id        ┆ genres    │\n",
       "│ ---       ┆ ---       │\n",
       "│ str       ┆ str       │\n",
       "╞═══════════╪═══════════╡\n",
       "│ tt0266543 ┆ Adventure │\n",
       "│ tt0266543 ┆ Animation │\n",
       "│ tt0266543 ┆ Comedy    │\n",
       "│ tt0080684 ┆ Action    │\n",
       "│ tt0080684 ┆ Adventure │\n",
       "└───────────┴───────────┘"
      ]
     },
     "execution_count": 153,
     "metadata": {},
     "output_type": "execute_result"
    }
   ],
   "source": [
    "## Table 7:\n",
    "# - id\n",
    "# - genres\n",
    "\n",
    "movie_genre = df.select(['id','genres'])\n",
    "movie_genre = movie_genre.explode('genres')\n",
    "movie_genre.head()"
   ]
  }
 ],
 "metadata": {
  "kernelspec": {
   "display_name": "etl-pipeline-pdLSlxm4-py3.9",
   "language": "python",
   "name": "python3"
  },
  "language_info": {
   "codemirror_mode": {
    "name": "ipython",
    "version": 3
   },
   "file_extension": ".py",
   "mimetype": "text/x-python",
   "name": "python",
   "nbconvert_exporter": "python",
   "pygments_lexer": "ipython3",
   "version": "3.9.8"
  }
 },
 "nbformat": 4,
 "nbformat_minor": 2
}
